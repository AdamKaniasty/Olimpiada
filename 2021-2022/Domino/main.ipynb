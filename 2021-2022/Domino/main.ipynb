{
 "cells": [
  {
   "cell_type": "code",
   "execution_count": 153,
   "metadata": {},
   "outputs": [],
   "source": [
    "fib = [0,1,2,3,5,8,13,21,34,55,89,144,233,377,610,987,1597,2584,4181,6765,10946,17711,28657,46368,75025,121393,196418,317811,514229,832040,1346269,2178309,3524578,5702887,9227465,14930352,24157817,39088169,63245986,102334155,165580141,267914296,433494437,701408733,1134903170,1836311903,2971215073,4807526976,7778742049,12586269025,20365011074,32951280099,53316291173,86267571272,139583862445,225851433717,365435296162,591286729879,956722026041,1548008755920,2504730781961,4052739537881,6557470319842,10610209857723,17167680177565,27777890035288,44945570212853,72723460248141,117669030460994,190392490709135,308061521170129,498454011879264,806515533049393,1304969544928657,2111485077978050,3416454622906707,5527939700884757,8944394323791464,14472334024676221,23416728348467685,37889062373143906,61305790721611591,99194853094755497,160500643816367088,259695496911122585,420196140727489673,679891637638612258]\n",
    "r_fib = [0,1,2,3,5,8,13,21,34,55,89,144,233,377,610,987,1597,2584,4181,6765,10946,17711,28657,46368,75025,121393,196418,317811,514229,832040,1346269,2178309,3524578,5702887,9227465,14930352,24157817,39088169,63245986,102334155,165580141,267914296,433494437,701408733,1134903170,1836311903,2971215073,4807526976,7778742049,12586269025,20365011074,32951280099,53316291173,86267571272,139583862445,225851433717,365435296162,591286729879,956722026041,1548008755920,2504730781961,4052739537881,6557470319842,10610209857723,17167680177565,27777890035288,44945570212853,72723460248141,117669030460994,190392490709135,308061521170129,498454011879264,806515533049393,1304969544928657,2111485077978050,3416454622906707,5527939700884757,8944394323791464,14472334024676221,23416728348467685,37889062373143906,61305790721611591,99194853094755497,160500643816367088,259695496911122585,420196140727489673,679891637638612258]\n",
    "r_fib.reverse()\n",
    "def factorization(n):\n",
    "    t = {}\n",
    "    for i in r_fib[:-2]:\n",
    "        n = int(n)\n",
    "        if i == 1:\n",
    "            break\n",
    "        while n % i == 0:\n",
    "            if i in t:\n",
    "                t[i] = t[i] + 1\n",
    "            else:\n",
    "                t[i] = 1\n",
    "            n = int(n/i)\n",
    "    return t"
   ]
  },
  {
   "cell_type": "code",
   "execution_count": 154,
   "metadata": {},
   "outputs": [],
   "source": [
    "def main(m):\n",
    "    if m == 1:\n",
    "        return 1\n",
    "    output = 0\n",
    "    product = 1\n",
    "    f = factorization(m)\n",
    "    for i in f.keys():\n",
    "        weight = fib.index(i)\n",
    "        output += f[i] * weight + f[i]\n",
    "        product = product * i**f[i]\n",
    "    if output != 0:\n",
    "        if product == m:\n",
    "            return output - 1\n",
    "        else:\n",
    "            return \"NIE\"\n",
    "    else:\n",
    "        return \"NIE\""
   ]
  },
  {
   "cell_type": "code",
   "execution_count": 155,
   "metadata": {},
   "outputs": [],
   "source": [
    "def test(a):\n",
    "    with open (\"testy/in/dom{}.in\".format(a),\"r\") as f:\n",
    "        test_in = f.read()\n",
    "    with open (\"testy/out/dom{}.out\".format(a),\"r\") as f:\n",
    "        test_out = f.read()\n",
    "    test_in = test_in.replace(\"\\n\",\"\")\n",
    "    test_out = test_out.replace(\"\\n\",\"\")\n",
    "    try:\n",
    "        test_in = int(test_in)\n",
    "        test_out = int(test_out)\n",
    "    except:\n",
    "        pass\n",
    "    return test_in,test_out"
   ]
  },
  {
   "cell_type": "code",
   "execution_count": 162,
   "metadata": {},
   "outputs": [
    {
     "data": {
      "text/plain": [
       "115"
      ]
     },
     "execution_count": 162,
     "metadata": {},
     "output_type": "execute_result"
    }
   ],
   "source": [
    "main(84053991590887500)"
   ]
  },
  {
   "cell_type": "code",
   "execution_count": 159,
   "metadata": {},
   "outputs": [],
   "source": [
    "for i in range(0,1000):    \n",
    "    test_in,test_out = test(i)\n",
    "    program_out = main(test_in)\n",
    "    if test_out != program_out:\n",
    "        print(i,test_out,program_out)"
   ]
  }
 ],
 "metadata": {
  "interpreter": {
   "hash": "2955fcff6d51291144bd61f1869afa89edde486f89f727a8bc03f10046e1aae1"
  },
  "kernelspec": {
   "display_name": "Python 3.8.8 64-bit ('base': conda)",
   "name": "python3"
  },
  "language_info": {
   "codemirror_mode": {
    "name": "ipython",
    "version": 3
   },
   "file_extension": ".py",
   "mimetype": "text/x-python",
   "name": "python",
   "nbconvert_exporter": "python",
   "pygments_lexer": "ipython3",
   "version": "3.8.8"
  },
  "orig_nbformat": 4
 },
 "nbformat": 4,
 "nbformat_minor": 2
}
