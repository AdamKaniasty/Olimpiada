{
 "cells": [
  {
   "cell_type": "code",
   "execution_count": 1,
   "metadata": {},
   "outputs": [],
   "source": [
    "import numpy as np\n",
    "from datetime import datetime"
   ]
  },
  {
   "cell_type": "code",
   "execution_count": 2,
   "metadata": {},
   "outputs": [],
   "source": [
    "def test(n):\n",
    "    with open(\"testy/in/dru{}.in\".format(n),\"r\") as f:\n",
    "        testy_in = f.read()\n",
    "    with open(\"testy/out/dru{}.out\".format(n),\"r\") as f:\n",
    "        testy_out = f.read()\n",
    "    return testy_in,testy_out\n",
    "def test2(n):\n",
    "    with open(\"testy2/in/dru{}.in\".format(n),\"r\") as f:\n",
    "        testy_in = f.read()\n",
    "    with open(\"testy2/out/dru{}.out\".format(n),\"r\") as f:\n",
    "        testy_out = f.read()\n",
    "    return testy_in,testy_out\n",
    "    \n",
    "def data(n,t):\n",
    "    if t == 1:\n",
    "        t_in,t_out = test(n)\n",
    "        t_in = t_in.split(\"\\n\")[:-1]\n",
    "        n,m = t_in[0].split(\" \")\n",
    "        t_out = t_out.split(\"\\n\")[:-1]\n",
    "        t_out[1] = t_out[1].split(\" \")[:-1]\n",
    "        t_in = t_in[1:-1]\n",
    "        if len(t_in) == int(n) and len(t_in[0]) == int(m):\n",
    "            return int(n),int(m),t_in,t_out\n",
    "        else:\n",
    "            return False\n",
    "    if t == 2:\n",
    "        t_in,t_out = test2(n)\n",
    "        t_in = t_in.split(\"\\n\")[:-2]\n",
    "        n,m = t_in[0].split(\" \")\n",
    "        t_out = t_out.split(\"\\n\")[:-1]\n",
    "        t_out[1] = t_out[1].split(\" \")[:-1]\n",
    "        t_in = t_in[1:]\n",
    "        if len(t_in) == int(n) and len(t_in[0]) == int(m):\n",
    "            return int(n),int(m),t_in,t_out\n",
    "        else:\n",
    "            return False"
   ]
  },
  {
   "cell_type": "code",
   "execution_count": 3,
   "metadata": {},
   "outputs": [],
   "source": [
    "def sprawdzarka(x): \n",
    "    cnt = 1\n",
    "    while 1:\n",
    "        program,test = main(cnt,x)\n",
    "        if program[0] == int(test[0]):\n",
    "            for i in range(len(program[1])):\n",
    "                if program[1][i] != int(test[1][i]):\n",
    "                    print(\"Error\",cnt)\n",
    "                    break\n",
    "        else:\n",
    "            print(\"Error\",cnt)\n",
    "            break\n",
    "        cnt = cnt + 1"
   ]
  },
  {
   "cell_type": "code",
   "execution_count": 4,
   "metadata": {},
   "outputs": [],
   "source": [
    "def letter_check(l,c):\n",
    "    lc = {}\n",
    "    for i in c:\n",
    "        try:\n",
    "            lc[i] += 1\n",
    "        except:\n",
    "            lc.update({i:1})\n",
    "    s = 0\n",
    "    for i in l.keys():\n",
    "        if s == 0:\n",
    "            s = l[i]/lc[i]\n",
    "        else:\n",
    "            try:\n",
    "                if l[i]/lc[i] != s:\n",
    "                    return False\n",
    "            except KeyError:\n",
    "                return False\n",
    "    return True"
   ]
  },
  {
   "cell_type": "code",
   "execution_count": null,
   "metadata": {},
   "outputs": [],
   "source": [
    "def count(t,T,c):\n",
    "    w = 0 \n",
    "    l = len(c)\n",
    "    for i in range(0,len(t),1):\n",
    "        j = 0\n",
    "        while j <= len(t[i]):\n",
    "            if t[i][j:j+l] == c:\n",
    "                w += 1\n",
    "                j += l-1\n",
    "            j = j+1\n",
    "    for i in range(0,len(T),1):\n",
    "        j = 0\n",
    "        while j <= len(T[i]):\n",
    "            if T[i][j:j+l] == c:\n",
    "                w += 1\n",
    "                j += l-1\n",
    "            j = j+1\n",
    "    return w"
   ]
  },
  {
   "cell_type": "code",
   "execution_count": 5,
   "metadata": {},
   "outputs": [],
   "source": [
    "def main(test_nr,test_type):\n",
    "    n,m,t,out = data(test_nr,test_type)\n",
    "    print(n,m)\n",
    "    start = datetime.now()\n",
    "    w = []\n",
    "    temp = [list(x) for x in t]\n",
    "    T = np.asarray(temp).T.tolist()\n",
    "    T = [\"\".join(x) for x in T]\n",
    "    l = {}\n",
    "    for i in t:\n",
    "        for j in i:\n",
    "            try:\n",
    "                l[j] += 1\n",
    "            except:\n",
    "                l.update({j:1})\n",
    "    if len(l.keys()) == 1:\n",
    "        w.append(1)\n",
    "    ma = n if n>m else m\n",
    "    p = m*n\n",
    "    for i in range (2,ma+1,1):\n",
    "        if p%i == 0:\n",
    "            target = int(p/i)\n",
    "            c1 = t[0][0:i]\n",
    "            c2 = T[0][0:i]\n",
    "            if letter_check(l,c1):\n",
    "                cnt = count(t,T,c1)\n",
    "                if target <= cnt:\n",
    "                    w.append(i)\n",
    "            elif letter_check(l,c2):\n",
    "                cnt = count(t,T,c2)\n",
    "                if target <= cnt:\n",
    "                    w.append(i)\n",
    "\n",
    "    end = datetime.now()\n",
    "    print(\"TIME\",end-start)\n",
    "    return (len(w),w),out"
   ]
  },
  {
   "cell_type": "code",
   "execution_count": 7,
   "metadata": {},
   "outputs": [
    {
     "name": "stdout",
     "output_type": "stream",
     "text": [
      "46 9\n",
      "TIME 0:00:00.000996\n"
     ]
    },
    {
     "data": {
      "text/plain": [
       "((4, [9, 18, 23, 46]), ['1', ['9']])"
      ]
     },
     "execution_count": 7,
     "metadata": {},
     "output_type": "execute_result"
    }
   ],
   "source": [
    "main(10,1)"
   ]
  },
  {
   "cell_type": "code",
   "execution_count": null,
   "metadata": {},
   "outputs": [],
   "source": []
  }
 ],
 "metadata": {
  "interpreter": {
   "hash": "2955fcff6d51291144bd61f1869afa89edde486f89f727a8bc03f10046e1aae1"
  },
  "kernelspec": {
   "display_name": "Python 3.8.8 64-bit ('base': conda)",
   "language": "python",
   "name": "python3"
  },
  "language_info": {
   "codemirror_mode": {
    "name": "ipython",
    "version": 3
   },
   "file_extension": ".py",
   "mimetype": "text/x-python",
   "name": "python",
   "nbconvert_exporter": "python",
   "pygments_lexer": "ipython3",
   "version": "3.8.8"
  },
  "orig_nbformat": 4
 },
 "nbformat": 4,
 "nbformat_minor": 2
}
