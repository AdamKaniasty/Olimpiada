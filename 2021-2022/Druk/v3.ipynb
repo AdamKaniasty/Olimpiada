{
 "cells": [
  {
   "cell_type": "code",
   "execution_count": 17,
   "metadata": {},
   "outputs": [],
   "source": [
    "import numpy as np\n",
    "from datetime import datetime"
   ]
  },
  {
   "cell_type": "code",
   "execution_count": 18,
   "metadata": {},
   "outputs": [],
   "source": [
    "def test(n):\n",
    "    with open(\"testy/in/dru{}.in\".format(n),\"r\") as f:\n",
    "        testy_in = f.read()\n",
    "    with open(\"testy/out/dru{}.out\".format(n),\"r\") as f:\n",
    "        testy_out = f.read()\n",
    "    return testy_in,testy_out\n",
    "def test2(n):\n",
    "    with open(\"testy2/in/dru{}.in\".format(n),\"r\") as f:\n",
    "        testy_in = f.read()\n",
    "    with open(\"testy2/out/dru{}.out\".format(n),\"r\") as f:\n",
    "        testy_out = f.read()\n",
    "    return testy_in,testy_out\n",
    "    \n",
    "def data(n,t):\n",
    "    if t == 1:\n",
    "        t_in,t_out = test(n)\n",
    "        t_in = t_in.split(\"\\n\")[:-1]\n",
    "        n,m = t_in[0].split(\" \")\n",
    "        t_out = t_out.split(\"\\n\")[:-1]\n",
    "        t_out[1] = t_out[1].split(\" \")[:-1]\n",
    "        t_in = t_in[1:-1]\n",
    "        if len(t_in) == int(n) and len(t_in[0]) == int(m):\n",
    "            return int(n),int(m),t_in,t_out\n",
    "        else:\n",
    "            return False\n",
    "    if t == 2:\n",
    "        t_in,t_out = test2(n)\n",
    "        t_in = t_in.split(\"\\n\")[:-2]\n",
    "        n,m = t_in[0].split(\" \")\n",
    "        t_out = t_out.split(\"\\n\")[:-1]\n",
    "        t_out[1] = t_out[1].split(\" \")[:-1]\n",
    "        t_in = t_in[1:]\n",
    "        if len(t_in) == int(n) and len(t_in[0]) == int(m):\n",
    "            return int(n),int(m),t_in,t_out\n",
    "        else:\n",
    "            return False"
   ]
  },
  {
   "cell_type": "code",
   "execution_count": 19,
   "metadata": {},
   "outputs": [],
   "source": [
    "def letter_check(l,c):\n",
    "    lc = {}\n",
    "    for i in c:\n",
    "        try:\n",
    "            lc[i] += 1\n",
    "        except:\n",
    "            lc.update({i:1})\n",
    "    s = 0\n",
    "    for i in l.keys():\n",
    "        if s == 0:\n",
    "            s = l[i]/lc[i]\n",
    "        else:\n",
    "            try:\n",
    "                if l[i]/lc[i] != s:\n",
    "                    return False\n",
    "            except KeyError:\n",
    "                return False\n",
    "    return True"
   ]
  },
  {
   "cell_type": "code",
   "execution_count": 20,
   "metadata": {},
   "outputs": [],
   "source": [
    "def count(t,T,c):\n",
    "    w = 0 \n",
    "    l = len(c)\n",
    "    for i in range(0,len(t),1):\n",
    "        j = 0\n",
    "        while j <= len(t[i]):\n",
    "            if t[i][j:j+l] == c:\n",
    "                w += 1\n",
    "                j += l-1\n",
    "            j = j+1\n",
    "    for i in range(0,len(T),1):\n",
    "        j = 0\n",
    "        while j <= len(T[i]):\n",
    "            if T[i][j:j+l] == c:\n",
    "                w += 1\n",
    "                j += l-1\n",
    "            j = j+1\n",
    "    return w\n",
    "\n",
    "def check(t,T,p,i,l):\n",
    "    target = int(p/i)\n",
    "    c = t[0][0:i]\n",
    "    if letter_check(l,c):\n",
    "        cnt = count(t,T,c)\n",
    "        if target <= cnt:\n",
    "            return True\n",
    "    return False\n",
    "        "
   ]
  },
  {
   "cell_type": "code",
   "execution_count": 21,
   "metadata": {},
   "outputs": [],
   "source": [
    "def main(test_nr,test_type):\n",
    "    n,m,t,out = data(test_nr,test_type)\n",
    "    # print(n,m,t)\n",
    "    start = datetime.now()\n",
    "    w = []\n",
    "    temp = [list(x) for x in t]\n",
    "    T = np.asarray(temp).T.tolist()\n",
    "    T = [\"\".join(x) for x in T]\n",
    "    l = {}\n",
    "    for i in t:\n",
    "        for j in i:\n",
    "            try:\n",
    "                l[j] += 1\n",
    "            except:\n",
    "                l.update({j:1})\n",
    "    if len(l.keys()) == 1:\n",
    "        s = set()\n",
    "        ma = n if n > m else m\n",
    "        for i in range (1,int(ma/2)+1):\n",
    "            if n%i == 0:\n",
    "                s.add(i)\n",
    "            elif m%i == 0:\n",
    "                s.add(i)\n",
    "        s.add(n)\n",
    "        s.add(m)\n",
    "        s = list(s)\n",
    "        s.sort()\n",
    "        end = datetime.now()\n",
    "        return (len(s),s),out,end-start,l\n",
    "    else:\n",
    "        p = m*n\n",
    "        ma = n if n>m else m\n",
    "        for i in range(2,ma+1):\n",
    "            if p%i == 0:\n",
    "                if i <= n and i <= m:\n",
    "                    if check(t,T,p,i,l) == True:\n",
    "                        w.append(i)\n",
    "                    elif check(T,t,p,i,l) == True:\n",
    "                        w.append(i)\n",
    "                if i <= n and i > m:\n",
    "                    if check(T,t,p,i,l) == True:\n",
    "                        w.append(i)\n",
    "                if i > n and i <= m:\n",
    "                    if check(t,T,p,i,l) == True:\n",
    "                        w.append(i)\n",
    "    end = datetime.now()\n",
    "    return (len(w),w),out,end-start,l"
   ]
  },
  {
   "cell_type": "code",
   "execution_count": 22,
   "metadata": {},
   "outputs": [],
   "source": [
    "def sprawdzarka(x): \n",
    "    cnt = 1\n",
    "    while 1:\n",
    "        try:\n",
    "            program,test,time,l = main(cnt,x)\n",
    "            print(cnt,time)\n",
    "        except TypeError:\n",
    "            print(TypeError)\n",
    "        except FileNotFoundError:\n",
    "            break\n",
    "        if program[0] == int(test[0]):\n",
    "            for i in range(len(program[1])):\n",
    "                if program[1][i] != int(test[1][i]):\n",
    "                    print(\"Error\",cnt,len(l))\n",
    "                    break\n",
    "        else:\n",
    "            print(\"Error\",cnt,len(l))\n",
    "        cnt = cnt + 1"
   ]
  },
  {
   "cell_type": "code",
   "execution_count": 23,
   "metadata": {},
   "outputs": [
    {
     "ename": "KeyboardInterrupt",
     "evalue": "",
     "output_type": "error",
     "traceback": [
      "\u001b[1;31m---------------------------------------------------------------------------\u001b[0m",
      "\u001b[1;31mKeyboardInterrupt\u001b[0m                         Traceback (most recent call last)",
      "\u001b[1;32m~\\AppData\\Local\\Temp/ipykernel_1192/3119020883.py\u001b[0m in \u001b[0;36m<module>\u001b[1;34m\u001b[0m\n\u001b[1;32m----> 1\u001b[1;33m \u001b[0msprawdzarka\u001b[0m\u001b[1;33m(\u001b[0m\u001b[1;36m2\u001b[0m\u001b[1;33m)\u001b[0m\u001b[1;33m\u001b[0m\u001b[1;33m\u001b[0m\u001b[0m\n\u001b[0m",
      "\u001b[1;32m~\\AppData\\Local\\Temp/ipykernel_1192/2117630413.py\u001b[0m in \u001b[0;36msprawdzarka\u001b[1;34m(x)\u001b[0m\n\u001b[0;32m      3\u001b[0m     \u001b[1;32mwhile\u001b[0m \u001b[1;36m1\u001b[0m\u001b[1;33m:\u001b[0m\u001b[1;33m\u001b[0m\u001b[1;33m\u001b[0m\u001b[0m\n\u001b[0;32m      4\u001b[0m         \u001b[1;32mtry\u001b[0m\u001b[1;33m:\u001b[0m\u001b[1;33m\u001b[0m\u001b[1;33m\u001b[0m\u001b[0m\n\u001b[1;32m----> 5\u001b[1;33m             \u001b[0mprogram\u001b[0m\u001b[1;33m,\u001b[0m\u001b[0mtest\u001b[0m\u001b[1;33m,\u001b[0m\u001b[0mtime\u001b[0m\u001b[1;33m,\u001b[0m\u001b[0ml\u001b[0m \u001b[1;33m=\u001b[0m \u001b[0mmain\u001b[0m\u001b[1;33m(\u001b[0m\u001b[0mcnt\u001b[0m\u001b[1;33m,\u001b[0m\u001b[0mx\u001b[0m\u001b[1;33m)\u001b[0m\u001b[1;33m\u001b[0m\u001b[1;33m\u001b[0m\u001b[0m\n\u001b[0m\u001b[0;32m      6\u001b[0m             \u001b[0mprint\u001b[0m\u001b[1;33m(\u001b[0m\u001b[0mcnt\u001b[0m\u001b[1;33m,\u001b[0m\u001b[0mtime\u001b[0m\u001b[1;33m)\u001b[0m\u001b[1;33m\u001b[0m\u001b[1;33m\u001b[0m\u001b[0m\n\u001b[0;32m      7\u001b[0m         \u001b[1;32mexcept\u001b[0m \u001b[0mTypeError\u001b[0m\u001b[1;33m:\u001b[0m\u001b[1;33m\u001b[0m\u001b[1;33m\u001b[0m\u001b[0m\n",
      "\u001b[1;32m~\\AppData\\Local\\Temp/ipykernel_1192/2870320027.py\u001b[0m in \u001b[0;36mmain\u001b[1;34m(test_nr, test_type)\u001b[0m\n\u001b[0;32m     36\u001b[0m                     \u001b[1;32mif\u001b[0m \u001b[0mcheck\u001b[0m\u001b[1;33m(\u001b[0m\u001b[0mt\u001b[0m\u001b[1;33m,\u001b[0m\u001b[0mT\u001b[0m\u001b[1;33m,\u001b[0m\u001b[0mp\u001b[0m\u001b[1;33m,\u001b[0m\u001b[0mi\u001b[0m\u001b[1;33m,\u001b[0m\u001b[0ml\u001b[0m\u001b[1;33m)\u001b[0m \u001b[1;33m==\u001b[0m \u001b[1;32mTrue\u001b[0m\u001b[1;33m:\u001b[0m\u001b[1;33m\u001b[0m\u001b[1;33m\u001b[0m\u001b[0m\n\u001b[0;32m     37\u001b[0m                         \u001b[0mw\u001b[0m\u001b[1;33m.\u001b[0m\u001b[0mappend\u001b[0m\u001b[1;33m(\u001b[0m\u001b[0mi\u001b[0m\u001b[1;33m)\u001b[0m\u001b[1;33m\u001b[0m\u001b[1;33m\u001b[0m\u001b[0m\n\u001b[1;32m---> 38\u001b[1;33m                     \u001b[1;32melif\u001b[0m \u001b[0mcheck\u001b[0m\u001b[1;33m(\u001b[0m\u001b[0mT\u001b[0m\u001b[1;33m,\u001b[0m\u001b[0mt\u001b[0m\u001b[1;33m,\u001b[0m\u001b[0mp\u001b[0m\u001b[1;33m,\u001b[0m\u001b[0mi\u001b[0m\u001b[1;33m,\u001b[0m\u001b[0ml\u001b[0m\u001b[1;33m)\u001b[0m \u001b[1;33m==\u001b[0m \u001b[1;32mTrue\u001b[0m\u001b[1;33m:\u001b[0m\u001b[1;33m\u001b[0m\u001b[1;33m\u001b[0m\u001b[0m\n\u001b[0m\u001b[0;32m     39\u001b[0m                         \u001b[0mw\u001b[0m\u001b[1;33m.\u001b[0m\u001b[0mappend\u001b[0m\u001b[1;33m(\u001b[0m\u001b[0mi\u001b[0m\u001b[1;33m)\u001b[0m\u001b[1;33m\u001b[0m\u001b[1;33m\u001b[0m\u001b[0m\n\u001b[0;32m     40\u001b[0m                 \u001b[1;32mif\u001b[0m \u001b[0mi\u001b[0m \u001b[1;33m<=\u001b[0m \u001b[0mn\u001b[0m \u001b[1;32mand\u001b[0m \u001b[0mi\u001b[0m \u001b[1;33m>\u001b[0m \u001b[0mm\u001b[0m\u001b[1;33m:\u001b[0m\u001b[1;33m\u001b[0m\u001b[1;33m\u001b[0m\u001b[0m\n",
      "\u001b[1;32m~\\AppData\\Local\\Temp/ipykernel_1192/1753496144.py\u001b[0m in \u001b[0;36mcheck\u001b[1;34m(t, T, p, i, l)\u001b[0m\n\u001b[0;32m     22\u001b[0m     \u001b[0mc\u001b[0m \u001b[1;33m=\u001b[0m \u001b[0mt\u001b[0m\u001b[1;33m[\u001b[0m\u001b[1;36m0\u001b[0m\u001b[1;33m]\u001b[0m\u001b[1;33m[\u001b[0m\u001b[1;36m0\u001b[0m\u001b[1;33m:\u001b[0m\u001b[0mi\u001b[0m\u001b[1;33m]\u001b[0m\u001b[1;33m\u001b[0m\u001b[1;33m\u001b[0m\u001b[0m\n\u001b[0;32m     23\u001b[0m     \u001b[1;32mif\u001b[0m \u001b[0mletter_check\u001b[0m\u001b[1;33m(\u001b[0m\u001b[0ml\u001b[0m\u001b[1;33m,\u001b[0m\u001b[0mc\u001b[0m\u001b[1;33m)\u001b[0m\u001b[1;33m:\u001b[0m\u001b[1;33m\u001b[0m\u001b[1;33m\u001b[0m\u001b[0m\n\u001b[1;32m---> 24\u001b[1;33m         \u001b[0mcnt\u001b[0m \u001b[1;33m=\u001b[0m \u001b[0mcount\u001b[0m\u001b[1;33m(\u001b[0m\u001b[0mt\u001b[0m\u001b[1;33m,\u001b[0m\u001b[0mT\u001b[0m\u001b[1;33m,\u001b[0m\u001b[0mc\u001b[0m\u001b[1;33m)\u001b[0m\u001b[1;33m\u001b[0m\u001b[1;33m\u001b[0m\u001b[0m\n\u001b[0m\u001b[0;32m     25\u001b[0m         \u001b[1;32mif\u001b[0m \u001b[0mtarget\u001b[0m \u001b[1;33m<=\u001b[0m \u001b[0mcnt\u001b[0m\u001b[1;33m:\u001b[0m\u001b[1;33m\u001b[0m\u001b[1;33m\u001b[0m\u001b[0m\n\u001b[0;32m     26\u001b[0m             \u001b[1;32mreturn\u001b[0m \u001b[1;32mTrue\u001b[0m\u001b[1;33m\u001b[0m\u001b[1;33m\u001b[0m\u001b[0m\n",
      "\u001b[1;32m~\\AppData\\Local\\Temp/ipykernel_1192/1753496144.py\u001b[0m in \u001b[0;36mcount\u001b[1;34m(t, T, c)\u001b[0m\n\u001b[0;32m     15\u001b[0m                 \u001b[0mw\u001b[0m \u001b[1;33m+=\u001b[0m \u001b[1;36m1\u001b[0m\u001b[1;33m\u001b[0m\u001b[1;33m\u001b[0m\u001b[0m\n\u001b[0;32m     16\u001b[0m                 \u001b[0mj\u001b[0m \u001b[1;33m+=\u001b[0m \u001b[0ml\u001b[0m\u001b[1;33m-\u001b[0m\u001b[1;36m1\u001b[0m\u001b[1;33m\u001b[0m\u001b[1;33m\u001b[0m\u001b[0m\n\u001b[1;32m---> 17\u001b[1;33m             \u001b[0mj\u001b[0m \u001b[1;33m=\u001b[0m \u001b[0mj\u001b[0m\u001b[1;33m+\u001b[0m\u001b[1;36m1\u001b[0m\u001b[1;33m\u001b[0m\u001b[1;33m\u001b[0m\u001b[0m\n\u001b[0m\u001b[0;32m     18\u001b[0m     \u001b[1;32mreturn\u001b[0m \u001b[0mw\u001b[0m\u001b[1;33m\u001b[0m\u001b[1;33m\u001b[0m\u001b[0m\n\u001b[0;32m     19\u001b[0m \u001b[1;33m\u001b[0m\u001b[0m\n",
      "\u001b[1;31mKeyboardInterrupt\u001b[0m: "
     ]
    }
   ],
   "source": [
    "sprawdzarka(2)"
   ]
  },
  {
   "cell_type": "code",
   "execution_count": null,
   "metadata": {},
   "outputs": [],
   "source": []
  }
 ],
 "metadata": {
  "interpreter": {
   "hash": "6bc3a1bde76bd4fef37d7aff6d04f04dcc32accf545816abc247c0f5d269cb25"
  },
  "kernelspec": {
   "display_name": "Python 3.8.8 64-bit ('base': conda)",
   "name": "python3"
  },
  "language_info": {
   "codemirror_mode": {
    "name": "ipython",
    "version": 3
   },
   "file_extension": ".py",
   "mimetype": "text/x-python",
   "name": "python",
   "nbconvert_exporter": "python",
   "pygments_lexer": "ipython3",
   "version": "3.8.8"
  },
  "orig_nbformat": 4
 },
 "nbformat": 4,
 "nbformat_minor": 2
}
