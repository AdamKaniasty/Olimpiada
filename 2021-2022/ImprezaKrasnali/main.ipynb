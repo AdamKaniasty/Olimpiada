{
 "cells": [
  {
   "cell_type": "code",
   "execution_count": 110,
   "metadata": {},
   "outputs": [],
   "source": [
    "import numpy as np\n",
    "from math import factorial \n",
    "from itertools import permutations"
   ]
  },
  {
   "cell_type": "code",
   "execution_count": 111,
   "metadata": {},
   "outputs": [],
   "source": [
    "def test(n):\n",
    "    with open (\"testy/in/imp{}.in\".format(n), \"r\") as f:\n",
    "        test_in = f.read()\n",
    "    with open (\"testy/out/imp{}.out\".format(n), \"r\") as f:\n",
    "        test_out = f.read()\n",
    "    test_in = test_in.split(\"\\n\")\n",
    "    test_in[1] = test_in[1].split(\" \")[:-1]\n",
    "    return test_in,test_out\n",
    "\n",
    "def combinations(n,k):\n",
    "    return factorial(n)/factorial(k)"
   ]
  },
  {
   "cell_type": "code",
   "execution_count": 115,
   "metadata": {},
   "outputs": [
    {
     "name": "stdout",
     "output_type": "stream",
     "text": [
      "0\n",
      "E 7.0\n",
      "2\n",
      "3\n",
      "4\n",
      "5\n",
      "E 4.0\n",
      "7\n"
     ]
    }
   ],
   "source": [
    "res = test(7)\n",
    "n = int(res[0][0])\n",
    "t = [int(x) for x in res[0][1]]\n",
    "test_out = res[1]\n",
    "t_copy = t\n",
    "w = np.zeros(n)\n",
    "w[1]=t[0]\n",
    "w[-2]=t[-1]\n",
    "for i in range(0,n):\n",
    "    if w[i] == 0:\n",
    "        print(i)\n",
    "        if i != 0 and i != n-1:\n",
    "            if t[i-1] == t[i+1]:\n",
    "                w[i] = t[i-1]\n",
    "            elif w[i+2] != 0 and w[i+2] != t[i+1]:\n",
    "                w[i] = t[i+1]\n",
    "            elif w[i-2] != 0 and w[i-2] != t[i-1]:\n",
    "                print(\"WAAA\")\n",
    "                w[i] = t[i-1]\n",
    "        if i == n-1:\n",
    "            if w[i-2] != 0 and w[i-2] != t[i-1]:\n",
    "                print(\"WAAA\")\n",
    "                w[i] = t[i-1]\n",
    "    else:\n",
    "        print(\"E\",w[i])\n"
   ]
  },
  {
   "cell_type": "code",
   "execution_count": 116,
   "metadata": {},
   "outputs": [
    {
     "data": {
      "text/plain": [
       "(8, [7, 1, 3, 2, 3, 2, 5, 4], array([0., 7., 0., 3., 2., 0., 4., 0.]), '8')"
      ]
     },
     "execution_count": 116,
     "metadata": {},
     "output_type": "execute_result"
    }
   ],
   "source": [
    "n,t_copy,w,test_out"
   ]
  },
  {
   "cell_type": "code",
   "execution_count": 117,
   "metadata": {},
   "outputs": [
    {
     "data": {
      "text/plain": [
       "4"
      ]
     },
     "execution_count": 117,
     "metadata": {},
     "output_type": "execute_result"
    }
   ],
   "source": [
    "zeros = n - np.count_nonzero(w)\n",
    "zeros"
   ]
  },
  {
   "cell_type": "code",
   "execution_count": null,
   "metadata": {},
   "outputs": [],
   "source": []
  }
 ],
 "metadata": {
  "interpreter": {
   "hash": "2955fcff6d51291144bd61f1869afa89edde486f89f727a8bc03f10046e1aae1"
  },
  "kernelspec": {
   "display_name": "Python 3.8.8 64-bit ('base': conda)",
   "name": "python3"
  },
  "language_info": {
   "codemirror_mode": {
    "name": "ipython",
    "version": 3
   },
   "file_extension": ".py",
   "mimetype": "text/x-python",
   "name": "python",
   "nbconvert_exporter": "python",
   "pygments_lexer": "ipython3",
   "version": "3.8.8"
  },
  "orig_nbformat": 4
 },
 "nbformat": 4,
 "nbformat_minor": 2
}
