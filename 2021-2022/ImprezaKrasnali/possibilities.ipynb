{
 "cells": [
  {
   "cell_type": "code",
   "execution_count": 21,
   "metadata": {},
   "outputs": [],
   "source": [
    "from math import factorial \n",
    "import numpy as np\n",
    "from itertools import permutations"
   ]
  },
  {
   "cell_type": "code",
   "execution_count": 22,
   "metadata": {},
   "outputs": [],
   "source": [
    "def test(n):\n",
    "    with open (\"testy/in/imp{}.in\".format(n), \"r\") as f:\n",
    "        test_in = f.read()\n",
    "    with open (\"testy/out/imp{}.out\".format(n), \"r\") as f:\n",
    "        test_out = f.read()\n",
    "    test_in = test_in.split(\"\\n\")\n",
    "    test_in[1] = test_in[1].split(\" \")[:-1]\n",
    "    return test_in,test_out\n"
   ]
  },
  {
   "cell_type": "code",
   "execution_count": 23,
   "metadata": {},
   "outputs": [],
   "source": [
    "res = test(9)\n",
    "n = int(res[0][0])\n",
    "t = [int(x) for x in res[0][1]]\n",
    "test_out = res[1]"
   ]
  },
  {
   "cell_type": "code",
   "execution_count": 24,
   "metadata": {},
   "outputs": [],
   "source": [
    "from math import factorial \n",
    "import numpy as np\n",
    "from itertools import permutations"
   ]
  },
  {
   "cell_type": "code",
   "execution_count": 37,
   "metadata": {},
   "outputs": [],
   "source": [
    "def test(n):\n",
    "    with open (\"testy/in/imp{}.in\".format(n), \"r\") as f:\n",
    "        test_in = f.read()\n",
    "    with open (\"testy/out/imp{}.out\".format(n), \"r\") as f:\n",
    "        test_out = f.read()\n",
    "    test_in = test_in.split(\"\\n\")\n",
    "    test_in[1] = test_in[1].split(\" \")[:-1]\n",
    "    return test_in,test_out\n"
   ]
  },
  {
   "cell_type": "code",
   "execution_count": 55,
   "metadata": {},
   "outputs": [],
   "source": [
    "def perm(n,a,indexes):\n",
    "    cnt=0\n",
    "    for i in indexes:\n",
    "        a[i] = n[cnt]\n",
    "        cnt = cnt+1\n",
    "    return a\n",
    "def brute (x):\n",
    "    res = test(x)\n",
    "    n = int(res[0][0])\n",
    "    t = [int(x) for x in res[0][1]]\n",
    "    test_out = res[1]\n",
    "    w = np.zeros(n)\n",
    "    w[1]=t[0]\n",
    "    w[-2]=t[-1]\n",
    "    for i in range(0,n):\n",
    "        if w[i] == 0:\n",
    "            if i != 0 and i != n-1:\n",
    "                if t[i-1] == t[i+1]:\n",
    "                    w[i] = t[i-1]\n",
    "                elif w[i+2] != 0 and w[i+2] != t[i+1]:\n",
    "                    w[i] = t[i+1]\n",
    "                elif w[i-2] != 0 and w[i-2] != t[i-1]:\n",
    "                    w[i] = t[i-1]\n",
    "            if i == n-1:\n",
    "                if w[i-2] != 0 and w[i-2] != t[i-1]:\n",
    "                    w[i] = t[i-1]\n",
    "    for i in range(n-1,-1,-1):\n",
    "        if w[i] == 0:\n",
    "            if i != 0 and i != n-1:\n",
    "                if t[i-1] == t[i+1]:\n",
    "                    w[i] = t[i-1]\n",
    "                elif w[i+2] != 0 and w[i+2] != t[i+1]:\n",
    "                    w[i] = t[i+1]\n",
    "                elif w[i-2] != 0 and w[i-2] != t[i-1]:\n",
    "                    w[i] = t[i-1]\n",
    "            if i == n-1:\n",
    "                if w[i-2] != 0 and w[i-2] != t[i-1]:\n",
    "                    w[i] = t[i-1]\n",
    "    print(t,test_out)\n",
    "    print(w)\n",
    "    print()\n",
    "    arr = np.arange(1,n+1)\n",
    "    for element in w:\n",
    "        if element in arr:\n",
    "            arr = np.delete(arr,np.argwhere(arr == int(element)))\n",
    "    cnt = 0\n",
    "    cnt_all =0\n",
    "    indexes = np.argwhere(w == 0)\n",
    "    distribution = np.zeros((n,n))\n",
    "\n",
    "    for i in permutations(arr):\n",
    "        p = perm(i,w,indexes)  \n",
    "        if(p[4] == 7 or p[6] == 7) and (p[6] == 10 or p[8] == 10) and (p[8] == 6 or p[10] == 6):   \n",
    "            cnt += 1\n",
    "        cnt_all += 1\n",
    "    print(\"CNT\",cnt,cnt_all/cnt)\n",
    "    print(\"CNT_ALL\",cnt_all)\n",
    "    # print(distribution)\n",
    "    "
   ]
  },
  {
   "cell_type": "code",
   "execution_count": 56,
   "metadata": {},
   "outputs": [
    {
     "name": "stdout",
     "output_type": "stream",
     "text": [
      "[8, 5, 8, 5, 9, 7, 1, 10, 1, 6, 4] 48\n",
      "[0. 8. 5. 0. 0. 0. 0. 1. 0. 4. 0.]\n",
      "\n",
      "CNT 96 52.5\n",
      "CNT_ALL 5040\n"
     ]
    }
   ],
   "source": [
    "brute(10)"
   ]
  },
  {
   "cell_type": "code",
   "execution_count": null,
   "metadata": {},
   "outputs": [],
   "source": []
  }
 ],
 "metadata": {
  "interpreter": {
   "hash": "2955fcff6d51291144bd61f1869afa89edde486f89f727a8bc03f10046e1aae1"
  },
  "kernelspec": {
   "display_name": "Python 3.8.8 64-bit ('base': conda)",
   "name": "python3"
  },
  "language_info": {
   "codemirror_mode": {
    "name": "ipython",
    "version": 3
   },
   "file_extension": ".py",
   "mimetype": "text/x-python",
   "name": "python",
   "nbconvert_exporter": "python",
   "pygments_lexer": "ipython3",
   "version": "3.8.8"
  },
  "orig_nbformat": 4
 },
 "nbformat": 4,
 "nbformat_minor": 2
}
