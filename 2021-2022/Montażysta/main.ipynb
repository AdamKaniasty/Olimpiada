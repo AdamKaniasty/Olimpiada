{
 "cells": [
  {
   "cell_type": "code",
   "execution_count": 48,
   "metadata": {},
   "outputs": [],
   "source": [
    "def test(n):\n",
    "    if n<10:\n",
    "        with open(\"testy/in/mont00{}.in\".format(n),\"r\") as f:\n",
    "            testy_in = f.read()\n",
    "        with open(\"testy/out/mont00{}.out\".format(n),\"r\") as f:\n",
    "            testy_out = f.read()\n",
    "    elif n<100:\n",
    "        with open(\"testy/in/mont0{}.in\".format(n),\"r\") as f:\n",
    "            testy_in = f.read()\n",
    "        with open(\"testy/out/mont0{}.out\".format(n),\"r\") as f:\n",
    "            testy_out = f.read()\n",
    "    else:\n",
    "        with open(\"testy/in/mont{}.in\".format(n),\"r\") as f:\n",
    "            testy_in = f.read()\n",
    "        with open(\"testy/out/mont{}.out\".format(n),\"r\") as f:\n",
    "            testy_out = f.read()\n",
    "    print(testy_in,testy_out)"
   ]
  },
  {
   "cell_type": "code",
   "execution_count": 49,
   "metadata": {},
   "outputs": [],
   "source": [
    "n = 5\n",
    "t = [(4,5),(2,4),(5,3),(1,9),(3,10)]\n",
    "c = []\n",
    "for i in t:\n",
    "    if i[1]-i[0]+1 > 0:\n",
    "        c.append((i[1]-i[0]+1,i[0]))\n",
    "    else:\n",
    "        c.append((0,0))"
   ]
  },
  {
   "cell_type": "code",
   "execution_count": 50,
   "metadata": {},
   "outputs": [
    {
     "data": {
      "text/plain": [
       "[(2, 4), (3, 2), (0, 0), (9, 1), (8, 3)]"
      ]
     },
     "execution_count": 50,
     "metadata": {},
     "output_type": "execute_result"
    }
   ],
   "source": [
    "c"
   ]
  },
  {
   "cell_type": "code",
   "execution_count": null,
   "metadata": {},
   "outputs": [],
   "source": []
  }
 ],
 "metadata": {
  "interpreter": {
   "hash": "2955fcff6d51291144bd61f1869afa89edde486f89f727a8bc03f10046e1aae1"
  },
  "kernelspec": {
   "display_name": "Python 3.8.8 64-bit ('base': conda)",
   "name": "python3"
  },
  "language_info": {
   "codemirror_mode": {
    "name": "ipython",
    "version": 3
   },
   "file_extension": ".py",
   "mimetype": "text/x-python",
   "name": "python",
   "nbconvert_exporter": "python",
   "pygments_lexer": "ipython3",
   "version": "3.8.8"
  },
  "orig_nbformat": 4
 },
 "nbformat": 4,
 "nbformat_minor": 2
}
