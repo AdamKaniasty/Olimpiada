{
 "cells": [
  {
   "cell_type": "code",
   "execution_count": 1,
   "metadata": {},
   "outputs": [],
   "source": [
    "from datetime import datetime"
   ]
  },
  {
   "cell_type": "code",
   "execution_count": 2,
   "metadata": {},
   "outputs": [],
   "source": [
    "def test(n):\n",
    "    if n<10:\n",
    "        with open(\"testy/in/mont00{}.in\".format(n),\"r\") as f:\n",
    "            testy_in = f.read()\n",
    "        with open(\"testy/out/mont00{}.out\".format(n),\"r\") as f:\n",
    "            testy_out = f.read()\n",
    "    elif n<100:\n",
    "        with open(\"testy/in/mont0{}.in\".format(n),\"r\") as f:\n",
    "            testy_in = f.read()\n",
    "        with open(\"testy/out/mont0{}.out\".format(n),\"r\") as f:\n",
    "            testy_out = f.read()\n",
    "    else:\n",
    "        with open(\"testy/in/mont{}.in\".format(n),\"r\") as f:\n",
    "            testy_in = f.read()\n",
    "        with open(\"testy/out/mont{}.out\".format(n),\"r\") as f:\n",
    "            testy_out = f.read()\n",
    "    return testy_in,testy_out"
   ]
  },
  {
   "cell_type": "code",
   "execution_count": 3,
   "metadata": {},
   "outputs": [],
   "source": [
    "def test2(n):\n",
    "    with open(\"testy2/in/{}.in\".format(n),\"r\") as f:\n",
    "        testy_in = f.read()\n",
    "    with open(\"testy2/out/{}.out\".format(n),\"r\") as f:\n",
    "        testy_out = f.read()\n",
    "    return testy_in,testy_out"
   ]
  },
  {
   "cell_type": "code",
   "execution_count": 6,
   "metadata": {},
   "outputs": [],
   "source": [
    "def main(nr_testu):\n",
    "    test_in,test_out = test2(nr_testu)\n",
    "    test_in = test_in.split(\"\\n\")[:-1]\n",
    "    test_out = int(test_out.split(\"\\n\")[0])\n",
    "    n = int(test_in[0])\n",
    "    t_str = test_in[1:]\n",
    "    t = []\n",
    "    cnt = 1\n",
    "    for i in t_str:\n",
    "        x,y = i.split(\" \")\n",
    "        t.append([int(x),int(y),cnt])\n",
    "        cnt +=1\n",
    "    start_time = datetime.now()\n",
    "    t.sort(key = lambda x:x[1])\n",
    "    sort_time = datetime.now()\n",
    "    # d = []\n",
    "    s = set()\n",
    "    s_value = 0\n",
    "    \n",
    "    print(\"SORT_TIME\",sort_time-start_time)\n",
    "    \n",
    "    for i in range(len(t)):\n",
    "        space = t[i][1] - s_value\n",
    "        if t[i][0] <= space:\n",
    "            # d.append((t[i][0],t[i][2]))\n",
    "            s.add((t[i][0],t[i][2]))\n",
    "            s_value += t[i][0]\n",
    "        if t[i][0] > space:\n",
    "            ma = max(s,default=0)\n",
    "            if ma != 0:\n",
    "                if t[i][0] < ma[0]:\n",
    "                    s_value = s_value - ma[0] + t[i][0]\n",
    "                    # del(d[d.index(ma)])\n",
    "                    s.remove(ma)\n",
    "                    # d.append((t[i][0],t[i][2]))\n",
    "                    s.add((t[i][0],t[i][2]))\n",
    "\n",
    "        if i%1000 == 0:\n",
    "            print(n-i)\n",
    "        \n",
    "        if i == 50000:\n",
    "            first_iter = datetime.now()\n",
    "            break\n",
    "        \n",
    "    print(\"N_ITER_TIME\",first_iter - sort_time)\n",
    "    print(\"PREDICTED_TIME\",(first_iter - sort_time)*n/50000)\n",
    "    end_time = datetime.now()\n",
    "    print(\"TOTAL_TIME\",end_time-start_time)\n",
    "    return len(s) == test_out\n",
    "        "
   ]
  },
  {
   "cell_type": "code",
   "execution_count": 7,
   "metadata": {},
   "outputs": [
    {
     "name": "stdout",
     "output_type": "stream",
     "text": [
      "SORT_TIME 0:00:00.194016\n"
     ]
    },
    {
     "ename": "KeyboardInterrupt",
     "evalue": "",
     "output_type": "error",
     "traceback": [
      "\u001b[1;31m---------------------------------------------------------------------------\u001b[0m",
      "\u001b[1;31mKeyboardInterrupt\u001b[0m                         Traceback (most recent call last)",
      "\u001b[1;32m~\\AppData\\Local\\Temp/ipykernel_11440/3430799317.py\u001b[0m in \u001b[0;36m<module>\u001b[1;34m\u001b[0m\n\u001b[1;32m----> 1\u001b[1;33m \u001b[0mmain\u001b[0m\u001b[1;33m(\u001b[0m\u001b[1;36m1\u001b[0m\u001b[1;33m)\u001b[0m\u001b[1;33m\u001b[0m\u001b[1;33m\u001b[0m\u001b[0m\n\u001b[0m",
      "\u001b[1;32m~\\AppData\\Local\\Temp/ipykernel_11440/1077120082.py\u001b[0m in \u001b[0;36mmain\u001b[1;34m(nr_testu)\u001b[0m\n\u001b[0;32m     29\u001b[0m             \u001b[0mma\u001b[0m \u001b[1;33m=\u001b[0m \u001b[0mmax\u001b[0m\u001b[1;33m(\u001b[0m\u001b[0ms\u001b[0m\u001b[1;33m,\u001b[0m\u001b[0mdefault\u001b[0m\u001b[1;33m=\u001b[0m\u001b[1;36m0\u001b[0m\u001b[1;33m)\u001b[0m\u001b[1;33m\u001b[0m\u001b[1;33m\u001b[0m\u001b[0m\n\u001b[0;32m     30\u001b[0m             \u001b[1;32mif\u001b[0m \u001b[0mma\u001b[0m \u001b[1;33m!=\u001b[0m \u001b[1;36m0\u001b[0m\u001b[1;33m:\u001b[0m\u001b[1;33m\u001b[0m\u001b[1;33m\u001b[0m\u001b[0m\n\u001b[1;32m---> 31\u001b[1;33m                 \u001b[1;32mif\u001b[0m \u001b[0mt\u001b[0m\u001b[1;33m[\u001b[0m\u001b[0mi\u001b[0m\u001b[1;33m]\u001b[0m\u001b[1;33m[\u001b[0m\u001b[1;36m0\u001b[0m\u001b[1;33m]\u001b[0m \u001b[1;33m<\u001b[0m \u001b[0mma\u001b[0m\u001b[1;33m[\u001b[0m\u001b[1;36m0\u001b[0m\u001b[1;33m]\u001b[0m\u001b[1;33m:\u001b[0m\u001b[1;33m\u001b[0m\u001b[1;33m\u001b[0m\u001b[0m\n\u001b[0m\u001b[0;32m     32\u001b[0m                     \u001b[0ms_value\u001b[0m \u001b[1;33m=\u001b[0m \u001b[0ms_value\u001b[0m \u001b[1;33m-\u001b[0m \u001b[0mma\u001b[0m\u001b[1;33m[\u001b[0m\u001b[1;36m0\u001b[0m\u001b[1;33m]\u001b[0m \u001b[1;33m+\u001b[0m \u001b[0mt\u001b[0m\u001b[1;33m[\u001b[0m\u001b[0mi\u001b[0m\u001b[1;33m]\u001b[0m\u001b[1;33m[\u001b[0m\u001b[1;36m0\u001b[0m\u001b[1;33m]\u001b[0m\u001b[1;33m\u001b[0m\u001b[1;33m\u001b[0m\u001b[0m\n\u001b[0;32m     33\u001b[0m                     \u001b[1;31m# del(d[d.index(ma)])\u001b[0m\u001b[1;33m\u001b[0m\u001b[1;33m\u001b[0m\u001b[1;33m\u001b[0m\u001b[0m\n",
      "\u001b[1;31mKeyboardInterrupt\u001b[0m: "
     ]
    }
   ],
   "source": [
    "main(1)"
   ]
  },
  {
   "cell_type": "code",
   "execution_count": null,
   "metadata": {},
   "outputs": [],
   "source": []
  }
 ],
 "metadata": {
  "interpreter": {
   "hash": "2955fcff6d51291144bd61f1869afa89edde486f89f727a8bc03f10046e1aae1"
  },
  "kernelspec": {
   "display_name": "Python 3.8.8 64-bit ('base': conda)",
   "name": "python3"
  },
  "language_info": {
   "codemirror_mode": {
    "name": "ipython",
    "version": 3
   },
   "file_extension": ".py",
   "mimetype": "text/x-python",
   "name": "python",
   "nbconvert_exporter": "python",
   "pygments_lexer": "ipython3",
   "version": "3.8.8"
  },
  "orig_nbformat": 4
 },
 "nbformat": 4,
 "nbformat_minor": 2
}
