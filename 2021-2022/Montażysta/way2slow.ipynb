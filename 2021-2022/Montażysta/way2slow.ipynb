{
 "cells": [
  {
   "cell_type": "code",
   "execution_count": 1,
   "metadata": {},
   "outputs": [],
   "source": [
    "from datetime import datetime"
   ]
  },
  {
   "cell_type": "code",
   "execution_count": 2,
   "metadata": {},
   "outputs": [],
   "source": [
    "def test(n):\n",
    "    if n<10:\n",
    "        with open(\"testy/in/mont00{}.in\".format(n),\"r\") as f:\n",
    "            testy_in = f.read()\n",
    "        with open(\"testy/out/mont00{}.out\".format(n),\"r\") as f:\n",
    "            testy_out = f.read()\n",
    "    elif n<100:\n",
    "        with open(\"testy/in/mont0{}.in\".format(n),\"r\") as f:\n",
    "            testy_in = f.read()\n",
    "        with open(\"testy/out/mont0{}.out\".format(n),\"r\") as f:\n",
    "            testy_out = f.read()\n",
    "    else:\n",
    "        with open(\"testy/in/mont{}.in\".format(n),\"r\") as f:\n",
    "            testy_in = f.read()\n",
    "        with open(\"testy/out/mont{}.out\".format(n),\"r\") as f:\n",
    "            testy_out = f.read()\n",
    "    return testy_in,testy_out"
   ]
  },
  {
   "cell_type": "code",
   "execution_count": 3,
   "metadata": {},
   "outputs": [],
   "source": [
    "def test2(n):\n",
    "    with open(\"testy2/in/{}.in\".format(n),\"r\") as f:\n",
    "        testy_in = f.read()\n",
    "    with open(\"testy2/out/{}.out\".format(n),\"r\") as f:\n",
    "        testy_out = f.read()\n",
    "    return testy_in,testy_out"
   ]
  },
  {
   "cell_type": "code",
   "execution_count": 4,
   "metadata": {},
   "outputs": [],
   "source": [
    "def main(nr_testu):\n",
    "    test_in,test_out = test2(nr_testu)\n",
    "    test_in = test_in.split(\"\\n\")[:-1]\n",
    "    test_out = int(test_out.split(\"\\n\")[0])\n",
    "    n = int(test_in[0])\n",
    "    t_str = test_in[1:]\n",
    "    t = []\n",
    "    cnt = 1\n",
    "    for i in t_str:\n",
    "        x,y = i.split(\" \")\n",
    "        t.append([int(x),int(y),cnt])\n",
    "        cnt +=1\n",
    "    start_time = datetime.now()\n",
    "    t.sort(key = lambda x:x[1])\n",
    "    sort_time = datetime.now()\n",
    "    # d = []\n",
    "    s = set()\n",
    "    s_value = 0\n",
    "    \n",
    "    print(\"SORT_TIME\",sort_time-start_time)\n",
    "    \n",
    "    for i in range(len(t)):\n",
    "        space = t[i][1] - s_value\n",
    "        if t[i][0] <= space:\n",
    "            # d.append((t[i][0],t[i][2]))\n",
    "            s.add((t[i][0],t[i][2]))\n",
    "            s_value += t[i][0]\n",
    "        if t[i][0] > space:\n",
    "            ma = max(s,default=0)\n",
    "            if ma != 0:\n",
    "                if t[i][0] < ma[0]:\n",
    "                    s_value = s_value - ma[0] + t[i][0]\n",
    "                    # del(d[d.index(ma)])\n",
    "                    s.remove(ma)\n",
    "                    # d.append((t[i][0],t[i][2]))\n",
    "                    s.add((t[i][0],t[i][2]))\n",
    "\n",
    "        if i%1000 == 0:\n",
    "            print(n-i)\n",
    "        \n",
    "        if i == 50000:\n",
    "            first_iter = datetime.now()\n",
    "            break\n",
    "        \n",
    "    print(\"N_ITER_TIME\",first_iter - sort_time)\n",
    "    print(\"PREDICTED_TIME\",(first_iter - sort_time)*n/50000)\n",
    "    end_time = datetime.now()\n",
    "    print(\"TOTAL_TIME\",end_time-start_time)\n",
    "    return len(s) == test_out\n",
    "        "
   ]
  },
  {
   "cell_type": "code",
   "execution_count": 5,
   "metadata": {},
   "outputs": [
    {
     "name": "stdout",
     "output_type": "stream",
     "text": [
      "SORT_TIME 0:00:00.149601\n",
      "289384\n",
      "288384\n",
      "287384\n",
      "286384\n",
      "285384\n",
      "284384\n",
      "283384\n",
      "282384\n",
      "281384\n",
      "280384\n",
      "279384\n",
      "278384\n",
      "277384\n",
      "276384\n",
      "275384\n",
      "274384\n",
      "273384\n",
      "272384\n",
      "271384\n",
      "270384\n",
      "269384\n",
      "268384\n",
      "267384\n",
      "266384\n",
      "265384\n",
      "264384\n",
      "263384\n",
      "262384\n",
      "261384\n",
      "260384\n",
      "259384\n",
      "258384\n",
      "257384\n",
      "256384\n",
      "255384\n",
      "254384\n",
      "253384\n",
      "252384\n",
      "251384\n",
      "250384\n",
      "249384\n",
      "248384\n",
      "247384\n",
      "246384\n",
      "245384\n",
      "244384\n",
      "243384\n",
      "242384\n",
      "241384\n",
      "240384\n",
      "239384\n",
      "N_ITER_TIME 0:00:06.403867\n",
      "PREDICTED_TIME 0:00:37.063533\n",
      "TOTAL_TIME 0:00:06.553468\n"
     ]
    },
    {
     "data": {
      "text/plain": [
       "False"
      ]
     },
     "execution_count": 5,
     "metadata": {},
     "output_type": "execute_result"
    }
   ],
   "source": [
    "main(1)"
   ]
  },
  {
   "cell_type": "code",
   "execution_count": null,
   "metadata": {},
   "outputs": [],
   "source": []
  }
 ],
 "metadata": {
  "interpreter": {
   "hash": "2955fcff6d51291144bd61f1869afa89edde486f89f727a8bc03f10046e1aae1"
  },
  "kernelspec": {
   "display_name": "Python 3.8.8 64-bit ('base': conda)",
   "name": "python3"
  },
  "language_info": {
   "codemirror_mode": {
    "name": "ipython",
    "version": 3
   },
   "file_extension": ".py",
   "mimetype": "text/x-python",
   "name": "python",
   "nbconvert_exporter": "python",
   "pygments_lexer": "ipython3",
   "version": "3.8.8"
  },
  "orig_nbformat": 4
 },
 "nbformat": 4,
 "nbformat_minor": 2
}
