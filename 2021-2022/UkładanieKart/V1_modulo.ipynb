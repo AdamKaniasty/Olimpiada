{
 "cells": [
  {
   "cell_type": "code",
   "execution_count": 157,
   "metadata": {},
   "outputs": [],
   "source": [
    "def factorial(n,m):\n",
    "    t = [1]\n",
    "    for i in range(1,n+1):\n",
    "        t.append((t[i-1]*i%m)%m)\n",
    "    return t"
   ]
  },
  {
   "cell_type": "code",
   "execution_count": 208,
   "metadata": {},
   "outputs": [],
   "source": [
    "def reverse(n,m):\n",
    "    u = 1\n",
    "    w = n\n",
    "    x = 0\n",
    "    z = m\n",
    "    q = 0\n",
    "    while w:\n",
    "        if w < z:\n",
    "            q = u\n",
    "            u = x\n",
    "            x = q\n",
    "            q = w\n",
    "            w = z\n",
    "            z = q\n",
    "        q = w / z\n",
    "        q = int(q)\n",
    "        u -= q * x\n",
    "        w -= q * z\n",
    "    if z == 1:\n",
    "        if x < 0:\n",
    "            x += m\n",
    "        return x\n",
    "    else:\n",
    "        return -1\n",
    "    \n",
    "def divide(a,b,m):\n",
    "    c = reverse(b,m)\n",
    "    return (a%m * c)%m"
   ]
  },
  {
   "cell_type": "code",
   "execution_count": 209,
   "metadata": {},
   "outputs": [],
   "source": [
    "def test(n):\n",
    "    with open(\"testy/in/{}.in\".format(n),\"r\") as f:\n",
    "        testy_in = f.read()\n",
    "    with open(\"testy/out/{}.out\".format(n),\"r\") as f:\n",
    "        testy_out = f.read()\n",
    "    return testy_in.split(' '),testy_out.split('\\n')[0]"
   ]
  },
  {
   "cell_type": "code",
   "execution_count": 223,
   "metadata": {},
   "outputs": [],
   "source": [
    "def main(n,m):\n",
    "    w = 0\n",
    "    cnt = n-2\n",
    "    t = factorial(n,m)\n",
    "    a = t[n-2]\n",
    "    b = t[n-2]\n",
    "    cnt_sc = 1\n",
    "    sc = int((2 + (n-3))/2 * (n-2))\n",
    "    for i in range(1,n-1):\n",
    "        w += a * sc\n",
    "        if b != 0:\n",
    "            w = w%m + (a-a/b) * (n-1)\n",
    "        else:\n",
    "            w = w%m + (a%m *(n-1)%m)%m\n",
    "        a = a + (a/cnt)\n",
    "        b = b/cnt\n",
    "        cnt = cnt - 1\n",
    "        sc = (sc%m - cnt_sc%m)%m\n",
    "        cnt_sc += 1\n",
    "        \n",
    "    print(\"FINAL\",int(w))\n",
    "    r = t[n] - t[n-1]\n",
    "    print(\"R\",r%m)\n",
    "    s = ((2*int(w) +(n-1)*int(r))/2 * n)\n",
    "    return int(s)"
   ]
  },
  {
   "cell_type": "code",
   "execution_count": 224,
   "metadata": {},
   "outputs": [
    {
     "name": "stdout",
     "output_type": "stream",
     "text": [
      "FINAL 70\n",
      "R 0\n"
     ]
    },
    {
     "data": {
      "text/plain": [
       "420"
      ]
     },
     "execution_count": 224,
     "metadata": {},
     "output_type": "execute_result"
    }
   ],
   "source": [
    "n=6\n",
    "m=100\n",
    "main(n,m)"
   ]
  },
  {
   "cell_type": "code",
   "execution_count": null,
   "metadata": {},
   "outputs": [],
   "source": []
  }
 ],
 "metadata": {
  "interpreter": {
   "hash": "2955fcff6d51291144bd61f1869afa89edde486f89f727a8bc03f10046e1aae1"
  },
  "kernelspec": {
   "display_name": "Python 3.8.8 64-bit ('base': conda)",
   "name": "python3"
  },
  "language_info": {
   "codemirror_mode": {
    "name": "ipython",
    "version": 3
   },
   "file_extension": ".py",
   "mimetype": "text/x-python",
   "name": "python",
   "nbconvert_exporter": "python",
   "pygments_lexer": "ipython3",
   "version": "3.8.8"
  },
  "orig_nbformat": 4
 },
 "nbformat": 4,
 "nbformat_minor": 2
}
