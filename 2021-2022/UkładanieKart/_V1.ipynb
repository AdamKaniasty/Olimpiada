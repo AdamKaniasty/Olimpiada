{
 "cells": [
  {
   "cell_type": "code",
   "execution_count": 24,
   "metadata": {},
   "outputs": [],
   "source": [
    "n = 6\n",
    "m = 100"
   ]
  },
  {
   "cell_type": "code",
   "execution_count": 25,
   "metadata": {},
   "outputs": [],
   "source": [
    "def factorial(n):\n",
    "    t = [1]\n",
    "    for i in range(1,n+1):\n",
    "        t.append((t[i-1]*i))\n",
    "    return t"
   ]
  },
  {
   "cell_type": "code",
   "execution_count": 26,
   "metadata": {},
   "outputs": [
    {
     "name": "stdout",
     "output_type": "stream",
     "text": [
      "1 355.0\n",
      "2 750.0\n",
      "3 1130.0\n",
      "4 1370.0\n",
      "FINAL 1370\n",
      "R 600\n",
      "17220\n",
      "20\n"
     ]
    }
   ],
   "source": [
    "w = 0\n",
    "cnt = n-2\n",
    "t = factorial(n)\n",
    "a = t[n-2]\n",
    "s = 0\n",
    "for i in range(1,n-1):\n",
    "    for j in range(i,n):\n",
    "        if j != n-1:\n",
    "            s += j\n",
    "            w += a * j\n",
    "        if j == n-1:\n",
    "            w += (a-a/t[cnt]) * j\n",
    "    a = a + (a/cnt)\n",
    "    cnt = cnt - 1\n",
    "    print(i,w)\n",
    "print(\"FINAL\",int(w))\n",
    "r = t[n] - t[n-1]\n",
    "print(\"R\",r)\n",
    "s = (2*int(w) +(n-1)*r)/2 * n\n",
    "print(int(s))\n",
    "print(int(s)%m)"
   ]
  },
  {
   "cell_type": "code",
   "execution_count": null,
   "metadata": {},
   "outputs": [],
   "source": []
  }
 ],
 "metadata": {
  "interpreter": {
   "hash": "2955fcff6d51291144bd61f1869afa89edde486f89f727a8bc03f10046e1aae1"
  },
  "kernelspec": {
   "display_name": "Python 3.8.8 64-bit ('base': conda)",
   "name": "python3"
  },
  "language_info": {
   "codemirror_mode": {
    "name": "ipython",
    "version": 3
   },
   "file_extension": ".py",
   "mimetype": "text/x-python",
   "name": "python",
   "nbconvert_exporter": "python",
   "pygments_lexer": "ipython3",
   "version": "3.8.8"
  },
  "orig_nbformat": 4
 },
 "nbformat": 4,
 "nbformat_minor": 2
}
