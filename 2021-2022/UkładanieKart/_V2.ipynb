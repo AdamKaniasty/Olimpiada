{
 "cells": [
  {
   "cell_type": "code",
   "execution_count": 32,
   "metadata": {},
   "outputs": [],
   "source": [
    "from math import factorial\n",
    "import numpy as np\n",
    "n = 3\n",
    "m = 10"
   ]
  },
  {
   "cell_type": "code",
   "execution_count": 33,
   "metadata": {},
   "outputs": [
    {
     "name": "stdout",
     "output_type": "stream",
     "text": [
      "[2. 1. 2.]\n"
     ]
    }
   ],
   "source": [
    "t = np.ones(n)\n",
    "for i in range(1,n):\n",
    "    tc = t\n",
    "    t = t*i\n",
    "    t[n-i]=tc[n-i]\n",
    "print(t)"
   ]
  },
  {
   "cell_type": "code",
   "execution_count": 34,
   "metadata": {},
   "outputs": [
    {
     "name": "stdout",
     "output_type": "stream",
     "text": [
      "1\n",
      "1.0 0.0\n",
      "[0. 1. 0.]\n",
      "OUT 1.0\n",
      "R 4\n",
      "2 8\n",
      "5.0\n"
     ]
    }
   ],
   "source": [
    "w = np.zeros(n)\n",
    "s = factorial(n-1)\n",
    "cnt = 1\n",
    "cnt_s = (n-1)\n",
    "for i in range (1,n-1):\n",
    "    print(i)\n",
    "    w[i] = w[i-1]\n",
    "    x = t[i]\n",
    "    x2 = x - cnt\n",
    "    print(x,x2)\n",
    "    w[i] += x\n",
    "    w[n-1] += x2\n",
    "    cnt = cnt * cnt_s\n",
    "    cnt_s -= 1\n",
    "print(w)\n",
    "out = 0\n",
    "for i in range(len(w)):\n",
    "    out += i * w[i]\n",
    "print(\"OUT\",out)\n",
    "r = factorial(n) - factorial(n-1)\n",
    "print(\"R\",r)\n",
    "s = (2*int(out) +(n-1)*r)/2 * n\n",
    "print(2*int(out),(n-1)*r)\n",
    "print(s%m)"
   ]
  },
  {
   "cell_type": "code",
   "execution_count": null,
   "metadata": {},
   "outputs": [],
   "source": []
  }
 ],
 "metadata": {
  "interpreter": {
   "hash": "2955fcff6d51291144bd61f1869afa89edde486f89f727a8bc03f10046e1aae1"
  },
  "kernelspec": {
   "display_name": "Python 3.8.8 64-bit ('base': conda)",
   "language": "python",
   "name": "python3"
  },
  "language_info": {
   "codemirror_mode": {
    "name": "ipython",
    "version": 3
   },
   "file_extension": ".py",
   "mimetype": "text/x-python",
   "name": "python",
   "nbconvert_exporter": "python",
   "pygments_lexer": "ipython3",
   "version": "3.8.8"
  },
  "orig_nbformat": 4
 },
 "nbformat": 4,
 "nbformat_minor": 2
}
