{
 "cells": [
  {
   "cell_type": "code",
   "execution_count": 13,
   "metadata": {},
   "outputs": [],
   "source": [
    "from math import factorial\n",
    "import numpy as np\n",
    "from datetime import datetime\n",
    "def add(a,b,m):\n",
    "    return (a%m + b%m)%m\n",
    "def substract(a,b,m):\n",
    "    return (a%m - b%m)%m\n",
    "def multiply(a,b,m):\n",
    "    return (a%m * b%m)%m"
   ]
  },
  {
   "cell_type": "code",
   "execution_count": 14,
   "metadata": {},
   "outputs": [],
   "source": [
    "def main(n,m):\n",
    "    t = np.ones(n)\n",
    "    for i in range(1,n):\n",
    "        tc = t\n",
    "        t = multiply(t,i,m)\n",
    "        t[n-i]=tc[n-i]%m\n",
    "    w = np.zeros(n)\n",
    "    cnt = 1\n",
    "    cnt_s = (n-1)\n",
    "    for i in range (1,n-1):\n",
    "        w[i] = w[i-1]\n",
    "        x = t[i]\n",
    "        x2 = substract(x,cnt,m)\n",
    "        w[i] += x\n",
    "        w[n-1] += x2\n",
    "        cnt = cnt * cnt_s\n",
    "        cnt_s -= 1\n",
    "    out = 0\n",
    "    for i in range(len(w)):\n",
    "        out = add(out,multiply(i,w[i],m),m)\n",
    "    print(\"OUT\",out)\n",
    "    r = substract(factorial(n),factorial(n-1),m)\n",
    "    print(\"R\",r)\n",
    "    s1 = multiply(out,n,m)\n",
    "    d = (2 + (n-2))/2*(n-1)\n",
    "    s2 = multiply(r,d,m)\n",
    "    print(s1,d,s2)\n",
    "    return add(s1,s2,m)"
   ]
  },
  {
   "cell_type": "code",
   "execution_count": 15,
   "metadata": {},
   "outputs": [
    {
     "name": "stdout",
     "output_type": "stream",
     "text": [
      "OUT 16663275.0\n",
      "R 51252355\n",
      "1019300.0 1999000.0 77023870.0\n",
      "EXECUTION_TIME 0:00:00.710099\n"
     ]
    }
   ],
   "source": [
    "start = datetime.now()\n",
    "main(2000,87698765)\n",
    "end = datetime.now()\n",
    "print(\"EXECUTION_TIME\",end-start)"
   ]
  },
  {
   "cell_type": "code",
   "execution_count": null,
   "metadata": {},
   "outputs": [],
   "source": []
  }
 ],
 "metadata": {
  "interpreter": {
   "hash": "2955fcff6d51291144bd61f1869afa89edde486f89f727a8bc03f10046e1aae1"
  },
  "kernelspec": {
   "display_name": "Python 3.8.8 64-bit ('base': conda)",
   "language": "python",
   "name": "python3"
  },
  "language_info": {
   "codemirror_mode": {
    "name": "ipython",
    "version": 3
   },
   "file_extension": ".py",
   "mimetype": "text/x-python",
   "name": "python",
   "nbconvert_exporter": "python",
   "pygments_lexer": "ipython3",
   "version": "3.8.8"
  },
  "orig_nbformat": 4
 },
 "nbformat": 4,
 "nbformat_minor": 2
}
