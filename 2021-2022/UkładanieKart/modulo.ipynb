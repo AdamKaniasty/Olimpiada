{
 "cells": [
  {
   "cell_type": "code",
   "execution_count": 97,
   "metadata": {},
   "outputs": [],
   "source": [
    "def factorial(n,m):\n",
    "    t = [1]\n",
    "    for i in range(1,n+1):\n",
    "        t.append((t[i-1]*i))\n",
    "    return t"
   ]
  },
  {
   "cell_type": "code",
   "execution_count": 98,
   "metadata": {},
   "outputs": [],
   "source": [
    "def test(n):\n",
    "    with open(\"testy/in/{}.in\".format(n),\"r\") as f:\n",
    "        testy_in = f.read()\n",
    "    with open(\"testy/out/{}.out\".format(n),\"r\") as f:\n",
    "        testy_out = f.read()\n",
    "    return testy_in.split(' '),testy_out.split('\\n')[0]"
   ]
  },
  {
   "cell_type": "code",
   "execution_count": 105,
   "metadata": {},
   "outputs": [],
   "source": [
    "def main(n,m):\n",
    "    w = 0\n",
    "    cnt = n-2\n",
    "    t = factorial(n,m)\n",
    "    a = t[n-2]\n",
    "    b = t[n-2]\n",
    "    cnt_sc = 1\n",
    "    sc = int((2*1 + (n-3))/2 * (n-2))\n",
    "    for i in range(1,n-1):\n",
    "        print(\"SC\",sc,a%m) \n",
    "        w += a * sc\n",
    "        if b != 0:\n",
    "            w += (a-a/b) * (n-1)\n",
    "        else:\n",
    "            w += a *(n-1)\n",
    "        a = a + (a/cnt)\n",
    "        b = b/cnt\n",
    "        cnt = cnt - 1\n",
    "        sc -= cnt_sc\n",
    "        cnt_sc += 1\n",
    "        \n",
    "    print(\"FINAL\",int(w))\n",
    "    r = t[n] - t[n-1]\n",
    "    print(\"R\",r%m)\n",
    "    s = ((2*int(w) +(n-1)*int(r))/2 * n)%m\n",
    "    return int(s)"
   ]
  },
  {
   "cell_type": "code",
   "execution_count": 106,
   "metadata": {},
   "outputs": [
    {
     "name": "stdout",
     "output_type": "stream",
     "text": [
      "SC 4851 0\n",
      "SC 4850 40.0\n",
      "SC 4848 104.0\n",
      "SC 4845 616.0\n",
      "SC 4841 264.0\n",
      "SC 4836 448.0\n",
      "SC 4830 392.0\n",
      "SC 4823 928.0\n",
      "SC 4815 512.0\n",
      "SC 4806 696.0\n",
      "SC 4796 816.0\n",
      "SC 4785 40.0\n",
      "SC 4773 784.0\n",
      "SC 4760 936.0\n",
      "SC 4746 760.0\n",
      "SC 4731 136.0\n",
      "SC 4715 728.0\n",
      "SC 4698 520.0\n",
      "SC 4680 112.0\n",
      "SC 4661 856.0\n",
      "SC 4641 0.0\n",
      "SC 4620 272.0\n",
      "SC 4598 840.0\n",
      "SC 4575 208.0\n",
      "SC 4551 40.0\n",
      "SC 4526 528.0\n",
      "SC 4500 312.0\n",
      "SC 4473 504.0\n",
      "SC 4445 408.0\n",
      "SC 4416 480.0\n",
      "SC 4386 912.0\n",
      "SC 4355 584.0\n",
      "SC 4323 184.0\n",
      "SC 4290 712.0\n",
      "SC 4256 112.0\n",
      "SC 4221 424.0\n",
      "SC 4185 848.0\n",
      "SC 4148 344.0\n",
      "SC 4110 352.0\n",
      "SC 4071 800.0\n",
      "SC 4031 264.0\n",
      "SC 3990 688.0\n",
      "SC 3948 936.0\n",
      "SC 3905 192.0\n",
      "SC 3861 840.0\n",
      "SC 3816 632.0\n",
      "SC 3770 312.0\n",
      "SC 3723 128.0\n",
      "SC 3675 88.0\n",
      "SC 3626 536.0\n",
      "SC 3576 80.0\n",
      "SC 3525 232.0\n",
      "SC 3473 896.0\n",
      "SC 3420 856.0\n",
      "SC 3366 392.0\n",
      "SC 3311 80.0\n",
      "SC 3255 872.0\n",
      "SC 3198 272.0\n",
      "SC 3140 40.0\n",
      "SC 3081 688.0\n",
      "SC 3021 520.0\n",
      "SC 2960 392.0\n",
      "SC 2898 32.0\n",
      "SC 2835 984.0\n",
      "SC 2771 936.0\n",
      "SC 2706 168.0\n",
      "SC 2640 424.0\n",
      "SC 2573 848.0\n",
      "SC 2505 688.0\n",
      "SC 2436 600.0\n",
      "SC 2366 376.0\n",
      "SC 2295 432.0\n",
      "SC 2223 360.0\n",
      "SC 2150 352.0\n",
      "SC 2076 168.0\n",
      "SC 2001 560.0\n",
      "SC 1925 808.0\n",
      "SC 1848 256.0\n",
      "SC 1770 640.0\n",
      "SC 1691 472.0\n",
      "SC 1611 928.0\n",
      "SC 1530 112.0\n",
      "SC 1448 432.0\n",
      "SC 1365 792.0\n",
      "SC 1281 200.0\n",
      "SC 1196 864.0\n",
      "SC 1110 608.0\n",
      "SC 1023 24.0\n",
      "SC 935 416.0\n",
      "SC 846 848.0\n",
      "SC 756 32.0\n",
      "SC 665 584.0\n",
      "SC 573 728.0\n",
      "SC 480 48.0\n",
      "SC 386 696.0\n",
      "SC 291 168.0\n",
      "SC 195 96.0\n",
      "SC 98 336.0\n",
      "FINAL 6724517887353076900378288365683455057981963759202347770379623767178497611743471344558393636980491589212981306284012841703305094903633826538626139201487509651456\n",
      "R 0\n"
     ]
    },
    {
     "data": {
      "text/plain": [
       "360"
      ]
     },
     "execution_count": 106,
     "metadata": {},
     "output_type": "execute_result"
    }
   ],
   "source": [
    "n=100\n",
    "m=1000\n",
    "main(n,m)"
   ]
  },
  {
   "cell_type": "code",
   "execution_count": null,
   "metadata": {},
   "outputs": [],
   "source": []
  }
 ],
 "metadata": {
  "interpreter": {
   "hash": "2955fcff6d51291144bd61f1869afa89edde486f89f727a8bc03f10046e1aae1"
  },
  "kernelspec": {
   "display_name": "Python 3.8.8 64-bit ('base': conda)",
   "name": "python3"
  },
  "language_info": {
   "codemirror_mode": {
    "name": "ipython",
    "version": 3
   },
   "file_extension": ".py",
   "mimetype": "text/x-python",
   "name": "python",
   "nbconvert_exporter": "python",
   "pygments_lexer": "ipython3",
   "version": "3.8.8"
  },
  "orig_nbformat": 4
 },
 "nbformat": 4,
 "nbformat_minor": 2
}
