{
 "cells": [
  {
   "cell_type": "code",
   "execution_count": 4,
   "metadata": {},
   "outputs": [],
   "source": [
    "n = 10\n",
    "m = 1000"
   ]
  },
  {
   "cell_type": "code",
   "execution_count": 5,
   "metadata": {},
   "outputs": [],
   "source": [
    "def factorial(n):\n",
    "    t = [1]\n",
    "    for i in range(1,n+1):\n",
    "        t.append((t[i-1]*i))\n",
    "    return t"
   ]
  },
  {
   "cell_type": "code",
   "execution_count": 6,
   "metadata": {},
   "outputs": [
    {
     "name": "stdout",
     "output_type": "stream",
     "text": [
      "100\n"
     ]
    }
   ],
   "source": [
    "w = 0\n",
    "cnt = n-2\n",
    "t = factorial(n)\n",
    "a = t[n-2]\n",
    "for i in range(1,n-1):\n",
    "    for j in range(i,n):\n",
    "        if j != n-1:\n",
    "            w += a * j\n",
    "        if j == n-1:\n",
    "            w += (a-a/t[cnt]) * j\n",
    "    a = a + (a/cnt)\n",
    "    cnt = cnt - 1\n",
    "r = t[n] - t[n-1]\n",
    "s = (2*w +(n-1)*r)/2 * n\n",
    "print(int(s%m))"
   ]
  }
 ],
 "metadata": {
  "interpreter": {
   "hash": "2955fcff6d51291144bd61f1869afa89edde486f89f727a8bc03f10046e1aae1"
  },
  "kernelspec": {
   "display_name": "Python 3.8.8 64-bit ('base': conda)",
   "name": "python3"
  },
  "language_info": {
   "codemirror_mode": {
    "name": "ipython",
    "version": 3
   },
   "file_extension": ".py",
   "mimetype": "text/x-python",
   "name": "python",
   "nbconvert_exporter": "python",
   "pygments_lexer": "ipython3",
   "version": "3.8.8"
  },
  "orig_nbformat": 4
 },
 "nbformat": 4,
 "nbformat_minor": 2
}
