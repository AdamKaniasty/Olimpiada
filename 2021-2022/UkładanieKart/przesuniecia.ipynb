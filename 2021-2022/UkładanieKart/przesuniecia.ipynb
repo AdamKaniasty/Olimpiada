{
 "cells": [
  {
   "cell_type": "code",
   "execution_count": 1,
   "metadata": {},
   "outputs": [],
   "source": [
    "from itertools import permutations\n",
    "import numpy as np\n",
    "from math import factorial"
   ]
  },
  {
   "cell_type": "code",
   "execution_count": 2,
   "metadata": {},
   "outputs": [],
   "source": [
    "def sorted(cards):\n",
    "    return all(cards[i]<cards[i+1] for i in range(len(cards)-1))\n",
    "def time(cards,n):\n",
    "    total = 0\n",
    "    t = np.zeros(n)\n",
    "    s = sorted(cards)\n",
    "    if s == True:\n",
    "        return 0\n",
    "    while 1:\n",
    "        a = cards[0]\n",
    "        if a != 1:\n",
    "            b = cards.index(a-1)\n",
    "            total += b\n",
    "            t[b] += 1\n",
    "            del(cards[b])\n",
    "            cards.insert(0,a-1)\n",
    "        else:\n",
    "            b = cards.index(n)\n",
    "            total += b\n",
    "            t[b] += 1\n",
    "            del(cards[b])\n",
    "            cards.insert(0,n)\n",
    "        if sorted(cards):\n",
    "            break    \n",
    "    return t,total\n",
    "\n",
    "def permutation(n):\n",
    "    t = np.arange(1,n+1,1)\n",
    "    perms = list(permutations(t.tolist()))\n",
    "    total = np.zeros((n,n))\n",
    "    total_operations = 0\n",
    "    s = 0\n",
    "    for i in perms:\n",
    "        output = time(list(i),n)\n",
    "        try:\n",
    "            s += output[1]\n",
    "            output = output[0]\n",
    "            for i in range(len(output)):\n",
    "                temp = output[i]\n",
    "                total[i][int(temp)] += 1\n",
    "                total_operations += output[i]\n",
    "        except:\n",
    "            pass\n",
    "    return total[1:].T,int(total_operations),s"
   ]
  },
  {
   "cell_type": "code",
   "execution_count": 3,
   "metadata": {},
   "outputs": [
    {
     "data": {
      "text/plain": [
       "(array([[4199., 3359., 2519., 1679.,  839.,  325.],\n",
       "        [ 840., 1512., 1974., 2156., 1918.,  605.],\n",
       "        [   0.,  168.,  504.,  994., 1575.,  703.],\n",
       "        [   0.,    0.,   42.,  196.,  595.,  719.],\n",
       "        [   0.,    0.,    0.,   14.,  105.,  720.],\n",
       "        [   0.,    0.,    0.,    0.,    7.,  720.],\n",
       "        [   0.,    0.,    0.,    0.,    0.,  720.]]),\n",
       " 32860,\n",
       " 182406)"
      ]
     },
     "execution_count": 3,
     "metadata": {},
     "output_type": "execute_result"
    }
   ],
   "source": [
    "permutation(7)"
   ]
  },
  {
   "cell_type": "code",
   "execution_count": null,
   "metadata": {},
   "outputs": [],
   "source": []
  }
 ],
 "metadata": {
  "interpreter": {
   "hash": "2955fcff6d51291144bd61f1869afa89edde486f89f727a8bc03f10046e1aae1"
  },
  "kernelspec": {
   "display_name": "Python 3.8.8 64-bit ('base': conda)",
   "name": "python3"
  },
  "language_info": {
   "codemirror_mode": {
    "name": "ipython",
    "version": 3
   },
   "file_extension": ".py",
   "mimetype": "text/x-python",
   "name": "python",
   "nbconvert_exporter": "python",
   "pygments_lexer": "ipython3",
   "version": "3.8.8"
  },
  "orig_nbformat": 4
 },
 "nbformat": 4,
 "nbformat_minor": 2
}
