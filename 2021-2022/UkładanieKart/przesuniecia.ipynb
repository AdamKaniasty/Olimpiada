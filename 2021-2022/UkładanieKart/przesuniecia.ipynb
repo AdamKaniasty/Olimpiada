{
 "cells": [
  {
   "cell_type": "code",
   "execution_count": 9,
   "metadata": {},
   "outputs": [],
   "source": [
    "from itertools import permutations\n",
    "import numpy as np\n",
    "from math import factorial"
   ]
  },
  {
   "cell_type": "code",
   "execution_count": 19,
   "metadata": {},
   "outputs": [],
   "source": [
    "def sorted(cards):\n",
    "    return all(cards[i]<cards[i+1] for i in range(len(cards)-1))\n",
    "def time(cards,n):\n",
    "    total = 0\n",
    "    t = np.zeros(n)\n",
    "    s = sorted(cards)\n",
    "    if s == True:\n",
    "        return 0\n",
    "    while 1:\n",
    "        a = cards[0]\n",
    "        if a != 1:\n",
    "            b = cards.index(a-1)\n",
    "            total += b\n",
    "            t[b] += 1\n",
    "            del(cards[b])\n",
    "            cards.insert(0,a-1)\n",
    "        else:\n",
    "            b = cards.index(n)\n",
    "            total += b\n",
    "            t[b] += 1\n",
    "            del(cards[b])\n",
    "            cards.insert(0,n)\n",
    "        if sorted(cards):\n",
    "            break    \n",
    "    return t,total\n",
    "\n",
    "def permutation(n,m):\n",
    "    t = np.arange(1,n+1,1)\n",
    "    perms = list(permutations(t.tolist()))\n",
    "    total = np.zeros(n)\n",
    "    total_operations = 0\n",
    "    s = 0\n",
    "    for i in perms:\n",
    "        output = time(list(i),n)\n",
    "        try:\n",
    "            s += output[1]\n",
    "            output = output[0]\n",
    "            for i in range(len(output)):\n",
    "                total[i] += output[i]\n",
    "                total_operations += output[i]\n",
    "        except:\n",
    "            pass\n",
    "    return total[1:]/n,int(total_operations),s"
   ]
  },
  {
   "cell_type": "code",
   "execution_count": 20,
   "metadata": {},
   "outputs": [
    {
     "name": "stdout",
     "output_type": "stream",
     "text": [
      "2 (array([0.5]), 1, 1)\n",
      "3 (array([1., 2.]), 9, 15)\n",
      "4 (array([ 2.,  5., 10.]), 68, 168)\n",
      "5 (array([ 6., 14., 26., 57.]), 515, 1700)\n",
      "6 (array([ 24.,  54.,  94., 154., 368.]), 4164, 17220)\n",
      "7 (array([ 120.,  264.,  444.,  684., 1044., 2687.]), 36701, 182406)\n",
      "8 (array([  720.,  1560.,  2568.,  3828.,  5508.,  8028., 22048.]), 354080, 2055200)\n"
     ]
    }
   ],
   "source": [
    "for i in range(2,9,1):\n",
    "    print(i,permutation(i,10000000))"
   ]
  },
  {
   "cell_type": "code",
   "execution_count": 12,
   "metadata": {},
   "outputs": [
    {
     "name": "stdout",
     "output_type": "stream",
     "text": [
      "1 1 2 6 24 120 720 5040 40320 362880 "
     ]
    }
   ],
   "source": [
    "for i in range(0,10):\n",
    "    print(factorial(i),end=\" \")"
   ]
  },
  {
   "cell_type": "code",
   "execution_count": null,
   "metadata": {},
   "outputs": [],
   "source": []
  }
 ],
 "metadata": {
  "interpreter": {
   "hash": "2955fcff6d51291144bd61f1869afa89edde486f89f727a8bc03f10046e1aae1"
  },
  "kernelspec": {
   "display_name": "Python 3.8.8 64-bit ('base': conda)",
   "name": "python3"
  },
  "language_info": {
   "codemirror_mode": {
    "name": "ipython",
    "version": 3
   },
   "file_extension": ".py",
   "mimetype": "text/x-python",
   "name": "python",
   "nbconvert_exporter": "python",
   "pygments_lexer": "ipython3",
   "version": "3.8.8"
  },
  "orig_nbformat": 4
 },
 "nbformat": 4,
 "nbformat_minor": 2
}
